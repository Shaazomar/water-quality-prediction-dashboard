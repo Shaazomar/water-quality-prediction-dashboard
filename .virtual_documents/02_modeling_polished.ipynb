import pandas as pd
import numpy as np
import matplotlib.pyplot as plt
import seaborn as sns

from sklearn.model_selection import train_test_split, StratifiedKFold, cross_val_score
from sklearn.ensemble import RandomForestClassifier
from sklearn.metrics import classification_report, confusion_matrix, ConfusionMatrixDisplay, accuracy_score
import joblib

# ---------------------------
# Step 1: Load dataset
# ---------------------------
df = pd.read_csv("waterDataset.csv")

# ✅ Features now include pH
X = df[["EC", "TDS", "Na", "TH", "Cl", "pH"]]   
y = df["Water Quality Classification"]

# Train-test split
X_train, X_test, y_train, y_test = train_test_split(
    X, y, test_size=0.2, random_state=42, stratify=y
)

# ---------------------------
# Step 2: Train model
# ---------------------------
model = RandomForestClassifier(
    random_state=42, 
    n_estimators=200, 
    max_depth=12
)
model.fit(X_train, y_train)

# ---------------------------
# Step 3: Evaluate on test set
# ---------------------------
y_pred = model.predict(X_test)

print("Test Accuracy:", accuracy_score(y_test, y_pred))
print("\nClassification Report:\n")
print(classification_report(y_test, y_pred))

# ---------------------------
# Step 4: Cross-validation
# ---------------------------
cv = StratifiedKFold(n_splits=5, shuffle=True, random_state=42)
cv_scores = cross_val_score(model, X, y, cv=cv, scoring="accuracy")

print("\nCross-validation accuracy scores:", cv_scores)
print("Mean CV Accuracy:", cv_scores.mean())

# ---------------------------
# Step 5: Confusion Matrix Visualization
# ---------------------------
plt.figure(figsize=(8,6))
cm = confusion_matrix(y_test, y_pred, labels=model.classes_)
disp = ConfusionMatrixDisplay(confusion_matrix=cm, display_labels=model.classes_)
disp.plot(cmap="Blues", values_format="d")
plt.title("Confusion Matrix")
plt.show()

# ---------------------------
# Step 6: Feature Importance Plot
# ---------------------------
importances = pd.Series(model.feature_importances_, index=X.columns).sort_values(ascending=False)

plt.figure(figsize=(8,5))
sns.barplot(x=importances, y=importances.index, palette="viridis")
plt.title("Feature Importance (Random Forest)")
plt.xlabel("Importance Score")
plt.ylabel("Features")
plt.show()

print("\nFeature Importances:")
print(importances)

# ---------------------------
# Step 7: Save model
# ---------------------------
joblib.dump(model, "water_quality_rf_model.pkl")
print("\n✅ Model saved as water_quality_rf_model.pkl (with pH included)")



