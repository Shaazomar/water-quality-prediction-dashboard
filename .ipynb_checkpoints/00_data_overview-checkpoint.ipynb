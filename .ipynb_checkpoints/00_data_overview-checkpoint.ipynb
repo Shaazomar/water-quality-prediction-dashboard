{
 "cells": [
  {
   "cell_type": "code",
   "execution_count": null,
   "id": "085b3749-b88d-4ffc-befc-4c215bcd3bf9",
   "metadata": {},
   "outputs": [],
   "source": []
  }
 ],
 "metadata": {
  "kernelspec": {
   "display_name": "Python [conda env:base] *",
   "language": "python",
   "name": "conda-base-py"
  },
  "language_info": {
   "codemirror_mode": {
    "name": "ipython",
    "version": 3
   },
   "file_extension": ".py",
   "mimetype": "text/x-python",
   "name": "python",
   "nbconvert_exporter": "python",
   "pygments_lexer": "ipython3",
   "version": "3.10.18"
  }
 },
 "nbformat": 4,
 "nbformat_minor": 5
}
