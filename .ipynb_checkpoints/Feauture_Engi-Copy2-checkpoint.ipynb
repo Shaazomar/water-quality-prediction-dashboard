{
 "cells": [
  {
   "cell_type": "markdown",
   "id": "dee40fa4-6774-4fe7-94a9-4ef9c2ce76e8",
   "metadata": {},
   "source": [
    "### Loading The Dataset"
   ]
  },
  {
   "cell_type": "code",
   "execution_count": 214,
   "id": "519584d6-aa7b-472c-91b2-0831bc75093e",
   "metadata": {},
   "outputs": [],
   "source": [
    "import pandas as pd"
   ]
  },
  {
   "cell_type": "code",
   "execution_count": 216,
   "id": "1bed2f00-699f-4c91-a9ce-bc8d5b629011",
   "metadata": {},
   "outputs": [],
   "source": [
    "data=pd.read_csv('ganga.csv')"
   ]
  },
  {
   "cell_type": "code",
   "execution_count": 218,
   "id": "029d8bfb-be8a-4389-a6a5-892c2cec9f2a",
   "metadata": {},
   "outputs": [
    {
     "data": {
      "text/plain": [
       "Date      0\n",
       "DO        0\n",
       "pH        0\n",
       "ORP       0\n",
       "Cond      0\n",
       "Temp      0\n",
       "WQI       0\n",
       "Status    0\n",
       "dtype: int64"
      ]
     },
     "execution_count": 218,
     "metadata": {},
     "output_type": "execute_result"
    }
   ],
   "source": [
    "data.isnull().sum()"
   ]
  },
  {
   "cell_type": "code",
   "execution_count": 220,
   "id": "8332128d-abdd-4051-9b59-1902272a8f29",
   "metadata": {},
   "outputs": [
    {
     "data": {
      "text/plain": [
       "array(['Fair', 'Very Poor', 'Poor', 'Good', 'Excellent'], dtype=object)"
      ]
     },
     "execution_count": 220,
     "metadata": {},
     "output_type": "execute_result"
    }
   ],
   "source": [
    "data['Status'].unique()"
   ]
  },
  {
   "cell_type": "code",
   "execution_count": 276,
   "id": "58a759da-6fe4-42f6-8f13-cf8cc59dae8d",
   "metadata": {},
   "outputs": [
    {
     "data": {
      "text/html": [
       "<div>\n",
       "<style scoped>\n",
       "    .dataframe tbody tr th:only-of-type {\n",
       "        vertical-align: middle;\n",
       "    }\n",
       "\n",
       "    .dataframe tbody tr th {\n",
       "        vertical-align: top;\n",
       "    }\n",
       "\n",
       "    .dataframe thead th {\n",
       "        text-align: right;\n",
       "    }\n",
       "</style>\n",
       "<table border=\"1\" class=\"dataframe\">\n",
       "  <thead>\n",
       "    <tr style=\"text-align: right;\">\n",
       "      <th></th>\n",
       "      <th>DO</th>\n",
       "      <th>pH</th>\n",
       "      <th>ORP</th>\n",
       "      <th>Cond</th>\n",
       "      <th>Temp</th>\n",
       "      <th>WQI</th>\n",
       "      <th>Status</th>\n",
       "      <th>Year</th>\n",
       "      <th>Month</th>\n",
       "      <th>Date</th>\n",
       "    </tr>\n",
       "  </thead>\n",
       "  <tbody>\n",
       "    <tr>\n",
       "      <th>0</th>\n",
       "      <td>8.630526</td>\n",
       "      <td>8.879727</td>\n",
       "      <td>0.084822</td>\n",
       "      <td>0.044698</td>\n",
       "      <td>22.650238</td>\n",
       "      <td>20.504530</td>\n",
       "      <td>Fair</td>\n",
       "      <td>2019</td>\n",
       "      <td>1</td>\n",
       "      <td>12</td>\n",
       "    </tr>\n",
       "    <tr>\n",
       "      <th>1</th>\n",
       "      <td>8.644233</td>\n",
       "      <td>8.866815</td>\n",
       "      <td>0.086292</td>\n",
       "      <td>0.044651</td>\n",
       "      <td>22.567017</td>\n",
       "      <td>20.359197</td>\n",
       "      <td>Fair</td>\n",
       "      <td>2019</td>\n",
       "      <td>1</td>\n",
       "      <td>12</td>\n",
       "    </tr>\n",
       "    <tr>\n",
       "      <th>2</th>\n",
       "      <td>13.501176</td>\n",
       "      <td>12.359906</td>\n",
       "      <td>0.142900</td>\n",
       "      <td>46.195190</td>\n",
       "      <td>18.400787</td>\n",
       "      <td>42.014328</td>\n",
       "      <td>Very Poor</td>\n",
       "      <td>2019</td>\n",
       "      <td>1</td>\n",
       "      <td>12</td>\n",
       "    </tr>\n",
       "    <tr>\n",
       "      <th>3</th>\n",
       "      <td>9.458531</td>\n",
       "      <td>12.825684</td>\n",
       "      <td>0.146236</td>\n",
       "      <td>52.609680</td>\n",
       "      <td>18.013641</td>\n",
       "      <td>47.745434</td>\n",
       "      <td>Very Poor</td>\n",
       "      <td>2019</td>\n",
       "      <td>1</td>\n",
       "      <td>12</td>\n",
       "    </tr>\n",
       "  </tbody>\n",
       "</table>\n",
       "</div>"
      ],
      "text/plain": [
       "          DO         pH       ORP       Cond       Temp        WQI     Status  \\\n",
       "0   8.630526   8.879727  0.084822   0.044698  22.650238  20.504530       Fair   \n",
       "1   8.644233   8.866815  0.086292   0.044651  22.567017  20.359197       Fair   \n",
       "2  13.501176  12.359906  0.142900  46.195190  18.400787  42.014328  Very Poor   \n",
       "3   9.458531  12.825684  0.146236  52.609680  18.013641  47.745434  Very Poor   \n",
       "\n",
       "   Year  Month  Date  \n",
       "0  2019      1    12  \n",
       "1  2019      1    12  \n",
       "2  2019      1    12  \n",
       "3  2019      1    12  "
      ]
     },
     "execution_count": 276,
     "metadata": {},
     "output_type": "execute_result"
    }
   ],
   "source": [
    "data.head(4)"
   ]
  },
  {
   "cell_type": "code",
   "execution_count": 230,
   "id": "07b68990-94e2-413b-8bc7-6309400755be",
   "metadata": {},
   "outputs": [],
   "source": [
    "data['year_Month_date']=data['Date'].str.split(' ').str[0]"
   ]
  },
  {
   "cell_type": "code",
   "execution_count": 234,
   "id": "2cc74468-cf9a-4ca8-9df3-e3bf7cec1b4d",
   "metadata": {},
   "outputs": [],
   "source": [
    "data['Time']=data['Date'].str.split(' ').str[1]"
   ]
  },
  {
   "cell_type": "code",
   "execution_count": 238,
   "id": "5193d4ae-9452-4f0a-86d0-432c48938e05",
   "metadata": {},
   "outputs": [],
   "source": [
    "data.drop('Date',axis=1,inplace=True)"
   ]
  },
  {
   "cell_type": "code",
   "execution_count": 248,
   "id": "cb6ee88a-8366-4a35-bec5-90bd8e31b4a8",
   "metadata": {},
   "outputs": [],
   "source": [
    "data['Year']=data['year_Month_date'].str.split('-').str[0]\n",
    "data['Month']=data['year_Month_date'].str.split('-').str[1]\n",
    "data['Date']=data['year_Month_date'].str.split('-').str[2]"
   ]
  },
  {
   "cell_type": "code",
   "execution_count": 252,
   "id": "1d48f219-2d9f-43e0-8cb1-42e98656b441",
   "metadata": {},
   "outputs": [],
   "source": [
    "data.drop('year_Month_date',axis=1,inplace=True)"
   ]
  },
  {
   "cell_type": "code",
   "execution_count": 258,
   "id": "81f9aa4b-8eb1-435a-9a91-9f76424bb3a3",
   "metadata": {},
   "outputs": [
    {
     "data": {
      "text/plain": [
       "Year\n",
       "2019    39729\n",
       "2020     6799\n",
       "Name: count, dtype: int64"
      ]
     },
     "execution_count": 258,
     "metadata": {},
     "output_type": "execute_result"
    }
   ],
   "source": [
    "data['Year'].value_counts()"
   ]
  },
  {
   "cell_type": "code",
   "execution_count": 266,
   "id": "4e16da3a-2cd3-4f09-b3fe-dd8e933f8b07",
   "metadata": {},
   "outputs": [
    {
     "name": "stdout",
     "output_type": "stream",
     "text": [
      "<class 'pandas.core.frame.DataFrame'>\n",
      "RangeIndex: 46528 entries, 0 to 46527\n",
      "Data columns (total 11 columns):\n",
      " #   Column  Non-Null Count  Dtype  \n",
      "---  ------  --------------  -----  \n",
      " 0   DO      46528 non-null  float64\n",
      " 1   pH      46528 non-null  float64\n",
      " 2   ORP     46528 non-null  float64\n",
      " 3   Cond    46528 non-null  float64\n",
      " 4   Temp    46528 non-null  float64\n",
      " 5   WQI     46528 non-null  float64\n",
      " 6   Status  46528 non-null  object \n",
      " 7   Time    46528 non-null  object \n",
      " 8   Year    46528 non-null  int64  \n",
      " 9   Month   46528 non-null  int64  \n",
      " 10  Date    46528 non-null  int64  \n",
      "dtypes: float64(6), int64(3), object(2)\n",
      "memory usage: 3.9+ MB\n"
     ]
    }
   ],
   "source": [
    "data.info()"
   ]
  },
  {
   "cell_type": "code",
   "execution_count": 264,
   "id": "436fd867-8504-4fc2-9e75-74c8f0fb840d",
   "metadata": {},
   "outputs": [],
   "source": [
    "data['Year']=data['Year'].astype(int)\n",
    "data['Month']=data['Month'].astype(int)\n",
    "data['Date']=data['Date'].astype(int)"
   ]
  },
  {
   "cell_type": "code",
   "execution_count": 268,
   "id": "43dac7c4-f18e-4b6f-99eb-0ff100cabe74",
   "metadata": {},
   "outputs": [],
   "source": [
    "data.drop('Time',axis=1,inplace=True)"
   ]
  },
  {
   "cell_type": "code",
   "execution_count": 272,
   "id": "e0ca52f0-1b1b-4abb-a1eb-b23a7bbbc912",
   "metadata": {},
   "outputs": [
    {
     "data": {
      "text/plain": [
       "array(['Fair', 'Very Poor', 'Poor', 'Good', 'Excellent'], dtype=object)"
      ]
     },
     "execution_count": 272,
     "metadata": {},
     "output_type": "execute_result"
    }
   ],
   "source": [
    "data['Status'].unique()"
   ]
  },
  {
   "cell_type": "code",
   "execution_count": 274,
   "id": "e5b1ad4c-e900-47f0-a20c-2b373c1346ae",
   "metadata": {},
   "outputs": [
    {
     "data": {
      "text/plain": [
       "Status\n",
       "Fair         16779\n",
       "Poor         15618\n",
       "Very Poor     6840\n",
       "Good          4632\n",
       "Excellent     2659\n",
       "Name: count, dtype: int64"
      ]
     },
     "execution_count": 274,
     "metadata": {},
     "output_type": "execute_result"
    }
   ],
   "source": [
    "data['Status'].value_counts()"
   ]
  },
  {
   "cell_type": "code",
   "execution_count": null,
   "id": "4ea8f1db-6441-4528-84fb-950a26ccfd53",
   "metadata": {},
   "outputs": [],
   "source": []
  }
 ],
 "metadata": {
  "kernelspec": {
   "display_name": "Python [conda env:base] *",
   "language": "python",
   "name": "conda-base-py"
  },
  "language_info": {
   "codemirror_mode": {
    "name": "ipython",
    "version": 3
   },
   "file_extension": ".py",
   "mimetype": "text/x-python",
   "name": "python",
   "nbconvert_exporter": "python",
   "pygments_lexer": "ipython3",
   "version": "3.12.2"
  }
 },
 "nbformat": 4,
 "nbformat_minor": 5
}
